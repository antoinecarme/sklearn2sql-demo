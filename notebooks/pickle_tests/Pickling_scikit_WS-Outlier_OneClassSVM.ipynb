{
 "cells": [
  {
   "cell_type": "code",
   "execution_count": 1,
   "metadata": {
    "collapsed": true
   },
   "outputs": [],
   "source": [
    "import numpy as np\n",
    "import pandas as pd\n",
    "import sqlalchemy as sa\n",
    "import pickle, json, requests, base64\n"
   ]
  },
  {
   "cell_type": "markdown",
   "metadata": {},
   "source": [
    "## Build a scikit-learn model"
   ]
  },
  {
   "cell_type": "code",
   "execution_count": 2,
   "metadata": {
    "collapsed": false
   },
   "outputs": [],
   "source": [
    "from sklearn import datasets\n",
    "\n",
    "iris = datasets.load_iris()\n",
    "X = iris.data  \n",
    "Y = iris.target\n",
    "# print(iris.DESCR)"
   ]
  },
  {
   "cell_type": "code",
   "execution_count": 7,
   "metadata": {
    "collapsed": false
   },
   "outputs": [
    {
     "data": {
      "text/plain": [
       "OneClassSVM(cache_size=200, coef0=0.0, degree=3, gamma='auto', kernel='rbf',\n",
       "      max_iter=-1, nu=0.5,\n",
       "      random_state=<mtrand.RandomState object at 0x7f4cc7649678>,\n",
       "      shrinking=True, tol=0.001, verbose=False)"
      ]
     },
     "execution_count": 7,
     "metadata": {},
     "output_type": "execute_result"
    }
   ],
   "source": [
    "from sklearn.svm import OneClassSVM\n",
    "\n",
    "random_state = np.random.RandomState(0)\n",
    "clf = OneClassSVM(random_state=random_state)\n",
    "\n",
    "clf.fit(X, Y)"
   ]
  },
  {
   "cell_type": "code",
   "execution_count": 8,
   "metadata": {
    "collapsed": false
   },
   "outputs": [],
   "source": [
    "#clf.__dict__"
   ]
  },
  {
   "cell_type": "markdown",
   "metadata": {},
   "source": [
    "## Generate SQL Code from the Model"
   ]
  },
  {
   "cell_type": "code",
   "execution_count": 11,
   "metadata": {
    "collapsed": false
   },
   "outputs": [],
   "source": [
    "\n",
    "def test_ws_sql_gen(pickle_data):\n",
    "    WS_URL=\"http://192.168.88.88:1888/model\" # \"https://sklearn2sql.herokuapp.com/\"\n",
    "    b64_data = base64.b64encode(pickle_data)\n",
    "    data={\"Name\":\"model1\", \"PickleData\":b64_data , \"SQLDialect\":\"postgresql\"}\n",
    "    r = requests.post(WS_URL, json=data)\n",
    "    content = r.json()\n",
    "    # print(content)\n",
    "    lSQL = content[\"model\"][\"SQLGenrationResult\"][0][\"SQL\"]\n",
    "    return lSQL;\n"
   ]
  },
  {
   "cell_type": "code",
   "execution_count": 12,
   "metadata": {
    "collapsed": false
   },
   "outputs": [
    {
     "name": "stdout",
     "output_type": "stream",
     "text": [
      "WITH \"SV_data\" AS \n",
      "(SELECT \"Values\".sv_idx AS sv_idx, \"Values\".dual_coeff AS dual_coeff, \"Values\".sv_0 AS sv_0, \"Values\".sv_1 AS sv_1, \"Values\".sv_2 AS sv_2, \"Values\".sv_3 AS sv_3 \n",
      "FROM (SELECT 0 AS sv_idx, 1.0 AS dual_coeff, 4.9 AS sv_0, 3.0 AS sv_1, 1.4 AS sv_2, 0.2 AS sv_3 UNION ALL SELECT 1 AS sv_idx, 1.0 AS dual_coeff, 4.7 AS sv_0, 3.2 AS sv_1, 1.3 AS sv_2, 0.2 AS sv_3 UNION ALL SELECT 2 AS sv_idx, 1.0 AS dual_coeff, 4.6 AS sv_0, 3.1 AS sv_1, 1.5 AS sv_2, 0.2 AS sv_3 UNION ALL SELECT 3 AS sv_idx, 1.0 AS dual_coeff, 5.4 AS sv_0, 3.9 AS sv_1, 1.7 AS sv_2, 0.4 AS sv_3 UNION ALL SELECT 4 AS sv_idx, 1.0 AS dual_coeff, 4.6 AS sv_0, 3.4 AS sv_1, 1.4 AS sv_2, 0.3 AS sv_3 UNION ALL SELECT 5 AS sv_idx, 1.0 AS dual_coeff, 4.4 AS sv_0, 2.9 AS sv_1, 1.4 AS sv_2, 0.2 AS sv_3 UNION ALL SELECT 6 AS sv_idx, 0.38507940877 AS dual_coeff, 4.9 AS sv_0, 3.1 AS sv_1, 1.5 AS sv_2, 0.1 AS sv_3 UNION ALL SELECT 7 AS sv_idx, 1.0 AS dual_coeff, 5.4 AS sv_0, 3.7 AS sv_1, 1.5 AS sv_2, 0.2 AS sv_3 UNION ALL SELECT 8 AS sv_idx, 1.0 AS dual_coeff, 4.8 AS sv_0, 3.0 AS sv_1, 1.4 AS sv_2, 0.1 AS sv_3 UNION ALL SELECT 9 AS sv_idx, 1.0 AS dual_coeff, 4.3 AS sv_0, 3.0 AS sv_1, 1.1 AS sv_2, 0.1 AS sv_3 UNION ALL SELECT 10 AS sv_idx, 1.0 AS dual_coeff, 5.8 AS sv_0, 4.0 AS sv_1, 1.2 AS sv_2, 0.2 AS sv_3 UNION ALL SELECT 11 AS sv_idx, 1.0 AS dual_coeff, 5.7 AS sv_0, 4.4 AS sv_1, 1.5 AS sv_2, 0.4 AS sv_3 UNION ALL SELECT 12 AS sv_idx, 1.0 AS dual_coeff, 5.4 AS sv_0, 3.9 AS sv_1, 1.3 AS sv_2, 0.4 AS sv_3 UNION ALL SELECT 13 AS sv_idx, 1.0 AS dual_coeff, 5.7 AS sv_0, 3.8 AS sv_1, 1.7 AS sv_2, 0.3 AS sv_3 UNION ALL SELECT 14 AS sv_idx, 1.0 AS dual_coeff, 5.1 AS sv_0, 3.8 AS sv_1, 1.5 AS sv_2, 0.3 AS sv_3 UNION ALL SELECT 15 AS sv_idx, 1.0 AS dual_coeff, 4.6 AS sv_0, 3.6 AS sv_1, 1.0 AS sv_2, 0.2 AS sv_3 UNION ALL SELECT 16 AS sv_idx, 1.0 AS dual_coeff, 5.2 AS sv_0, 4.1 AS sv_1, 1.5 AS sv_2, 0.1 AS sv_3 UNION ALL SELECT 17 AS sv_idx, 1.0 AS dual_coeff, 5.5 AS sv_0, 4.2 AS sv_1, 1.4 AS sv_2, 0.2 AS sv_3 UNION ALL SELECT 18 AS sv_idx, 1.0 AS dual_coeff, 5.0 AS sv_0, 3.2 AS sv_1, 1.2 AS sv_2, 0.2 AS sv_3 UNION ALL SELECT 19 AS sv_idx, 1.0 AS dual_coeff, 5.5 AS sv_0, 3.5 AS sv_1, 1.3 AS sv_2, 0.2 AS sv_3 UNION ALL SELECT 20 AS sv_idx, 0.00328944837817 AS dual_coeff, 4.9 AS sv_0, 3.1 AS sv_1, 1.5 AS sv_2, 0.1 AS sv_3 UNION ALL SELECT 21 AS sv_idx, 1.0 AS dual_coeff, 4.4 AS sv_0, 3.0 AS sv_1, 1.3 AS sv_2, 0.2 AS sv_3 UNION ALL SELECT 22 AS sv_idx, 1.0 AS dual_coeff, 4.5 AS sv_0, 2.3 AS sv_1, 1.3 AS sv_2, 0.3 AS sv_3 UNION ALL SELECT 23 AS sv_idx, 1.0 AS dual_coeff, 4.4 AS sv_0, 3.2 AS sv_1, 1.3 AS sv_2, 0.2 AS sv_3 UNION ALL SELECT 24 AS sv_idx, 1.0 AS dual_coeff, 5.1 AS sv_0, 3.8 AS sv_1, 1.9 AS sv_2, 0.4 AS sv_3 UNION ALL SELECT 25 AS sv_idx, 1.0 AS dual_coeff, 4.8 AS sv_0, 3.0 AS sv_1, 1.4 AS sv_2, 0.3 AS sv_3 UNION ALL SELECT 26 AS sv_idx, 1.0 AS dual_coeff, 5.1 AS sv_0, 3.8 AS sv_1, 1.6 AS sv_2, 0.2 AS sv_3 UNION ALL SELECT 27 AS sv_idx, 1.0 AS dual_coeff, 4.6 AS sv_0, 3.2 AS sv_1, 1.4 AS sv_2, 0.2 AS sv_3 UNION ALL SELECT 28 AS sv_idx, 1.0 AS dual_coeff, 5.3 AS sv_0, 3.7 AS sv_1, 1.5 AS sv_2, 0.2 AS sv_3 UNION ALL SELECT 29 AS sv_idx, 1.0 AS dual_coeff, 7.0 AS sv_0, 3.2 AS sv_1, 4.7 AS sv_2, 1.4 AS sv_3 UNION ALL SELECT 30 AS sv_idx, 1.0 AS dual_coeff, 6.9 AS sv_0, 3.1 AS sv_1, 4.9 AS sv_2, 1.5 AS sv_3 UNION ALL SELECT 31 AS sv_idx, 1.0 AS dual_coeff, 5.5 AS sv_0, 2.3 AS sv_1, 4.0 AS sv_2, 1.3 AS sv_3 UNION ALL SELECT 32 AS sv_idx, 1.0 AS dual_coeff, 4.9 AS sv_0, 2.4 AS sv_1, 3.3 AS sv_2, 1.0 AS sv_3 UNION ALL SELECT 33 AS sv_idx, 1.0 AS dual_coeff, 5.2 AS sv_0, 2.7 AS sv_1, 3.9 AS sv_2, 1.4 AS sv_3 UNION ALL SELECT 34 AS sv_idx, 1.0 AS dual_coeff, 5.0 AS sv_0, 2.0 AS sv_1, 3.5 AS sv_2, 1.0 AS sv_3 UNION ALL SELECT 35 AS sv_idx, 1.0 AS dual_coeff, 6.0 AS sv_0, 2.2 AS sv_1, 4.0 AS sv_2, 1.0 AS sv_3 UNION ALL SELECT 36 AS sv_idx, 1.0 AS dual_coeff, 5.6 AS sv_0, 2.9 AS sv_1, 3.6 AS sv_2, 1.3 AS sv_3 UNION ALL SELECT 37 AS sv_idx, 1.0 AS dual_coeff, 6.7 AS sv_0, 3.1 AS sv_\n"
     ]
    }
   ],
   "source": [
    "pickle_data = pickle.dumps(clf)\n",
    "lSQL = test_ws_sql_gen(pickle_data)\n",
    "print(lSQL[0:4000])"
   ]
  },
  {
   "cell_type": "markdown",
   "metadata": {},
   "source": [
    "## Execute the SQL Code"
   ]
  },
  {
   "cell_type": "code",
   "execution_count": 13,
   "metadata": {
    "collapsed": false
   },
   "outputs": [],
   "source": [
    "# save the dataset in a database table\n",
    "\n",
    "#engine = sa.create_engine('sqlite://' , echo=False)\n",
    "engine = sa.create_engine(\"postgresql://db:db@localhost/db?port=5432\", echo=False)\n",
    "conn = engine.connect()\n",
    "\n",
    "lTable = pd.DataFrame(X);\n",
    "lTable.columns = ['Feature_0', 'Feature_1', 'Feature_2', 'Feature_3']\n",
    "lTable['KEY'] = range(lTable.shape[0])\n",
    "lTable.to_sql(\"INPUT_DATA\" , conn,   if_exists='replace', index=False)\n"
   ]
  },
  {
   "cell_type": "code",
   "execution_count": 14,
   "metadata": {
    "collapsed": false
   },
   "outputs": [],
   "source": [
    "sql_output = pd.read_sql(lSQL , conn);\n",
    "sql_output = sql_output.sort_values(by='KEY').reset_index(drop=True)"
   ]
  },
  {
   "cell_type": "code",
   "execution_count": 15,
   "metadata": {
    "collapsed": false,
    "scrolled": true
   },
   "outputs": [
    {
     "data": {
      "text/html": [
       "<div>\n",
       "<table border=\"1\" class=\"dataframe\">\n",
       "  <thead>\n",
       "    <tr style=\"text-align: right;\">\n",
       "      <th></th>\n",
       "      <th>KEY</th>\n",
       "      <th>AnomalyScore</th>\n",
       "      <th>OutlierIndicator</th>\n",
       "    </tr>\n",
       "  </thead>\n",
       "  <tbody>\n",
       "    <tr>\n",
       "      <th>114</th>\n",
       "      <td>114</td>\n",
       "      <td>-1.734906</td>\n",
       "      <td>-1</td>\n",
       "    </tr>\n",
       "    <tr>\n",
       "      <th>74</th>\n",
       "      <td>74</td>\n",
       "      <td>0.482320</td>\n",
       "      <td>1</td>\n",
       "    </tr>\n",
       "    <tr>\n",
       "      <th>9</th>\n",
       "      <td>9</td>\n",
       "      <td>0.000087</td>\n",
       "      <td>1</td>\n",
       "    </tr>\n",
       "    <tr>\n",
       "      <th>88</th>\n",
       "      <td>88</td>\n",
       "      <td>0.406374</td>\n",
       "      <td>1</td>\n",
       "    </tr>\n",
       "    <tr>\n",
       "      <th>25</th>\n",
       "      <td>25</td>\n",
       "      <td>0.211161</td>\n",
       "      <td>1</td>\n",
       "    </tr>\n",
       "    <tr>\n",
       "      <th>5</th>\n",
       "      <td>5</td>\n",
       "      <td>-1.338805</td>\n",
       "      <td>-1</td>\n",
       "    </tr>\n",
       "    <tr>\n",
       "      <th>48</th>\n",
       "      <td>48</td>\n",
       "      <td>-0.376297</td>\n",
       "      <td>-1</td>\n",
       "    </tr>\n",
       "    <tr>\n",
       "      <th>117</th>\n",
       "      <td>117</td>\n",
       "      <td>-10.866101</td>\n",
       "      <td>-1</td>\n",
       "    </tr>\n",
       "    <tr>\n",
       "      <th>83</th>\n",
       "      <td>83</td>\n",
       "      <td>1.774387</td>\n",
       "      <td>1</td>\n",
       "    </tr>\n",
       "    <tr>\n",
       "      <th>105</th>\n",
       "      <td>105</td>\n",
       "      <td>-7.460889</td>\n",
       "      <td>-1</td>\n",
       "    </tr>\n",
       "    <tr>\n",
       "      <th>27</th>\n",
       "      <td>27</td>\n",
       "      <td>0.409739</td>\n",
       "      <td>1</td>\n",
       "    </tr>\n",
       "    <tr>\n",
       "      <th>64</th>\n",
       "      <td>64</td>\n",
       "      <td>-0.190099</td>\n",
       "      <td>-1</td>\n",
       "    </tr>\n",
       "  </tbody>\n",
       "</table>\n",
       "</div>"
      ],
      "text/plain": [
       "     KEY  AnomalyScore  OutlierIndicator\n",
       "114  114     -1.734906                -1\n",
       "74    74      0.482320                 1\n",
       "9      9      0.000087                 1\n",
       "88    88      0.406374                 1\n",
       "25    25      0.211161                 1\n",
       "5      5     -1.338805                -1\n",
       "48    48     -0.376297                -1\n",
       "117  117    -10.866101                -1\n",
       "83    83      1.774387                 1\n",
       "105  105     -7.460889                -1\n",
       "27    27      0.409739                 1\n",
       "64    64     -0.190099                -1"
      ]
     },
     "execution_count": 15,
     "metadata": {},
     "output_type": "execute_result"
    }
   ],
   "source": [
    "sql_output.sample(12, random_state=1960)"
   ]
  },
  {
   "cell_type": "code",
   "execution_count": 17,
   "metadata": {
    "collapsed": false
   },
   "outputs": [
    {
     "data": {
      "text/plain": [
       " 1    75\n",
       "-1    75\n",
       "Name: OutlierIndicator, dtype: int64"
      ]
     },
     "execution_count": 17,
     "metadata": {},
     "output_type": "execute_result"
    }
   ],
   "source": [
    "sql_output.OutlierIndicator.value_counts()"
   ]
  },
  {
   "cell_type": "markdown",
   "metadata": {
    "collapsed": false
   },
   "source": [
    "## Scikit-learn Prediction"
   ]
  },
  {
   "cell_type": "code",
   "execution_count": 18,
   "metadata": {
    "collapsed": false
   },
   "outputs": [
    {
     "data": {
      "text/html": [
       "<div>\n",
       "<table border=\"1\" class=\"dataframe\">\n",
       "  <thead>\n",
       "    <tr style=\"text-align: right;\">\n",
       "      <th></th>\n",
       "      <th>KEY</th>\n",
       "      <th>AnomalyScore</th>\n",
       "      <th>OutlierIndicator</th>\n",
       "    </tr>\n",
       "  </thead>\n",
       "  <tbody>\n",
       "    <tr>\n",
       "      <th>114</th>\n",
       "      <td>114</td>\n",
       "      <td>-1.734906</td>\n",
       "      <td>-1.0</td>\n",
       "    </tr>\n",
       "    <tr>\n",
       "      <th>74</th>\n",
       "      <td>74</td>\n",
       "      <td>0.482320</td>\n",
       "      <td>1.0</td>\n",
       "    </tr>\n",
       "    <tr>\n",
       "      <th>9</th>\n",
       "      <td>9</td>\n",
       "      <td>0.000087</td>\n",
       "      <td>1.0</td>\n",
       "    </tr>\n",
       "    <tr>\n",
       "      <th>88</th>\n",
       "      <td>88</td>\n",
       "      <td>0.406374</td>\n",
       "      <td>1.0</td>\n",
       "    </tr>\n",
       "    <tr>\n",
       "      <th>25</th>\n",
       "      <td>25</td>\n",
       "      <td>0.211161</td>\n",
       "      <td>1.0</td>\n",
       "    </tr>\n",
       "    <tr>\n",
       "      <th>5</th>\n",
       "      <td>5</td>\n",
       "      <td>-1.338805</td>\n",
       "      <td>-1.0</td>\n",
       "    </tr>\n",
       "    <tr>\n",
       "      <th>48</th>\n",
       "      <td>48</td>\n",
       "      <td>-0.376297</td>\n",
       "      <td>-1.0</td>\n",
       "    </tr>\n",
       "    <tr>\n",
       "      <th>117</th>\n",
       "      <td>117</td>\n",
       "      <td>-10.866101</td>\n",
       "      <td>-1.0</td>\n",
       "    </tr>\n",
       "    <tr>\n",
       "      <th>83</th>\n",
       "      <td>83</td>\n",
       "      <td>1.774387</td>\n",
       "      <td>1.0</td>\n",
       "    </tr>\n",
       "    <tr>\n",
       "      <th>105</th>\n",
       "      <td>105</td>\n",
       "      <td>-7.460889</td>\n",
       "      <td>-1.0</td>\n",
       "    </tr>\n",
       "    <tr>\n",
       "      <th>27</th>\n",
       "      <td>27</td>\n",
       "      <td>0.409739</td>\n",
       "      <td>1.0</td>\n",
       "    </tr>\n",
       "    <tr>\n",
       "      <th>64</th>\n",
       "      <td>64</td>\n",
       "      <td>-0.190099</td>\n",
       "      <td>-1.0</td>\n",
       "    </tr>\n",
       "  </tbody>\n",
       "</table>\n",
       "</div>"
      ],
      "text/plain": [
       "     KEY  AnomalyScore  OutlierIndicator\n",
       "114  114     -1.734906              -1.0\n",
       "74    74      0.482320               1.0\n",
       "9      9      0.000087               1.0\n",
       "88    88      0.406374               1.0\n",
       "25    25      0.211161               1.0\n",
       "5      5     -1.338805              -1.0\n",
       "48    48     -0.376297              -1.0\n",
       "117  117    -10.866101              -1.0\n",
       "83    83      1.774387               1.0\n",
       "105  105     -7.460889              -1.0\n",
       "27    27      0.409739               1.0\n",
       "64    64     -0.190099              -1.0"
      ]
     },
     "execution_count": 18,
     "metadata": {},
     "output_type": "execute_result"
    }
   ],
   "source": [
    "skl_outputs = pd.DataFrame()\n",
    "skl_output_key = pd.DataFrame(list(range(X.shape[0])), columns=['KEY']);\n",
    "skl_output_anomaly_score = pd.DataFrame(clf.decision_function(X), columns=['AnomalyScore']);\n",
    "skl_output_is_outlier = pd.DataFrame(clf.predict(X), columns=['OutlierIndicator'])\n",
    "skl_output = pd.concat([skl_output_key, skl_output_anomaly_score, skl_output_is_outlier] , axis=1)\n",
    "skl_output.sample(12, random_state=1960)\n"
   ]
  },
  {
   "cell_type": "markdown",
   "metadata": {},
   "source": [
    "## Comparing the SQL and Scikit-learn Predictions"
   ]
  },
  {
   "cell_type": "code",
   "execution_count": 19,
   "metadata": {
    "collapsed": false
   },
   "outputs": [],
   "source": [
    "sql_skl_join = skl_output.join(sql_output , how='left', on='KEY', lsuffix='_skl', rsuffix='_sql')"
   ]
  },
  {
   "cell_type": "code",
   "execution_count": 20,
   "metadata": {
    "collapsed": false
   },
   "outputs": [
    {
     "data": {
      "text/html": [
       "<div>\n",
       "<table border=\"1\" class=\"dataframe\">\n",
       "  <thead>\n",
       "    <tr style=\"text-align: right;\">\n",
       "      <th></th>\n",
       "      <th>KEY_skl</th>\n",
       "      <th>AnomalyScore_skl</th>\n",
       "      <th>OutlierIndicator_skl</th>\n",
       "      <th>KEY_sql</th>\n",
       "      <th>AnomalyScore_sql</th>\n",
       "      <th>OutlierIndicator_sql</th>\n",
       "    </tr>\n",
       "  </thead>\n",
       "  <tbody>\n",
       "    <tr>\n",
       "      <th>114</th>\n",
       "      <td>114</td>\n",
       "      <td>-1.734906</td>\n",
       "      <td>-1.0</td>\n",
       "      <td>114</td>\n",
       "      <td>-1.734906</td>\n",
       "      <td>-1</td>\n",
       "    </tr>\n",
       "    <tr>\n",
       "      <th>74</th>\n",
       "      <td>74</td>\n",
       "      <td>0.482320</td>\n",
       "      <td>1.0</td>\n",
       "      <td>74</td>\n",
       "      <td>0.482320</td>\n",
       "      <td>1</td>\n",
       "    </tr>\n",
       "    <tr>\n",
       "      <th>9</th>\n",
       "      <td>9</td>\n",
       "      <td>0.000087</td>\n",
       "      <td>1.0</td>\n",
       "      <td>9</td>\n",
       "      <td>0.000087</td>\n",
       "      <td>1</td>\n",
       "    </tr>\n",
       "    <tr>\n",
       "      <th>88</th>\n",
       "      <td>88</td>\n",
       "      <td>0.406374</td>\n",
       "      <td>1.0</td>\n",
       "      <td>88</td>\n",
       "      <td>0.406374</td>\n",
       "      <td>1</td>\n",
       "    </tr>\n",
       "    <tr>\n",
       "      <th>25</th>\n",
       "      <td>25</td>\n",
       "      <td>0.211161</td>\n",
       "      <td>1.0</td>\n",
       "      <td>25</td>\n",
       "      <td>0.211161</td>\n",
       "      <td>1</td>\n",
       "    </tr>\n",
       "    <tr>\n",
       "      <th>5</th>\n",
       "      <td>5</td>\n",
       "      <td>-1.338805</td>\n",
       "      <td>-1.0</td>\n",
       "      <td>5</td>\n",
       "      <td>-1.338805</td>\n",
       "      <td>-1</td>\n",
       "    </tr>\n",
       "    <tr>\n",
       "      <th>48</th>\n",
       "      <td>48</td>\n",
       "      <td>-0.376297</td>\n",
       "      <td>-1.0</td>\n",
       "      <td>48</td>\n",
       "      <td>-0.376297</td>\n",
       "      <td>-1</td>\n",
       "    </tr>\n",
       "    <tr>\n",
       "      <th>117</th>\n",
       "      <td>117</td>\n",
       "      <td>-10.866101</td>\n",
       "      <td>-1.0</td>\n",
       "      <td>117</td>\n",
       "      <td>-10.866101</td>\n",
       "      <td>-1</td>\n",
       "    </tr>\n",
       "    <tr>\n",
       "      <th>83</th>\n",
       "      <td>83</td>\n",
       "      <td>1.774387</td>\n",
       "      <td>1.0</td>\n",
       "      <td>83</td>\n",
       "      <td>1.774387</td>\n",
       "      <td>1</td>\n",
       "    </tr>\n",
       "    <tr>\n",
       "      <th>105</th>\n",
       "      <td>105</td>\n",
       "      <td>-7.460889</td>\n",
       "      <td>-1.0</td>\n",
       "      <td>105</td>\n",
       "      <td>-7.460889</td>\n",
       "      <td>-1</td>\n",
       "    </tr>\n",
       "    <tr>\n",
       "      <th>27</th>\n",
       "      <td>27</td>\n",
       "      <td>0.409739</td>\n",
       "      <td>1.0</td>\n",
       "      <td>27</td>\n",
       "      <td>0.409739</td>\n",
       "      <td>1</td>\n",
       "    </tr>\n",
       "    <tr>\n",
       "      <th>64</th>\n",
       "      <td>64</td>\n",
       "      <td>-0.190099</td>\n",
       "      <td>-1.0</td>\n",
       "      <td>64</td>\n",
       "      <td>-0.190099</td>\n",
       "      <td>-1</td>\n",
       "    </tr>\n",
       "  </tbody>\n",
       "</table>\n",
       "</div>"
      ],
      "text/plain": [
       "     KEY_skl  AnomalyScore_skl  OutlierIndicator_skl  KEY_sql  \\\n",
       "114      114         -1.734906                  -1.0      114   \n",
       "74        74          0.482320                   1.0       74   \n",
       "9          9          0.000087                   1.0        9   \n",
       "88        88          0.406374                   1.0       88   \n",
       "25        25          0.211161                   1.0       25   \n",
       "5          5         -1.338805                  -1.0        5   \n",
       "48        48         -0.376297                  -1.0       48   \n",
       "117      117        -10.866101                  -1.0      117   \n",
       "83        83          1.774387                   1.0       83   \n",
       "105      105         -7.460889                  -1.0      105   \n",
       "27        27          0.409739                   1.0       27   \n",
       "64        64         -0.190099                  -1.0       64   \n",
       "\n",
       "     AnomalyScore_sql  OutlierIndicator_sql  \n",
       "114         -1.734906                    -1  \n",
       "74           0.482320                     1  \n",
       "9            0.000087                     1  \n",
       "88           0.406374                     1  \n",
       "25           0.211161                     1  \n",
       "5           -1.338805                    -1  \n",
       "48          -0.376297                    -1  \n",
       "117        -10.866101                    -1  \n",
       "83           1.774387                     1  \n",
       "105         -7.460889                    -1  \n",
       "27           0.409739                     1  \n",
       "64          -0.190099                    -1  "
      ]
     },
     "execution_count": 20,
     "metadata": {},
     "output_type": "execute_result"
    }
   ],
   "source": [
    "sql_skl_join.sample(12, random_state=1960)"
   ]
  },
  {
   "cell_type": "code",
   "execution_count": 22,
   "metadata": {
    "collapsed": false
   },
   "outputs": [
    {
     "data": {
      "text/html": [
       "<div>\n",
       "<table border=\"1\" class=\"dataframe\">\n",
       "  <thead>\n",
       "    <tr style=\"text-align: right;\">\n",
       "      <th></th>\n",
       "      <th>KEY_skl</th>\n",
       "      <th>AnomalyScore_skl</th>\n",
       "      <th>OutlierIndicator_skl</th>\n",
       "      <th>KEY_sql</th>\n",
       "      <th>AnomalyScore_sql</th>\n",
       "      <th>OutlierIndicator_sql</th>\n",
       "    </tr>\n",
       "  </thead>\n",
       "  <tbody>\n",
       "  </tbody>\n",
       "</table>\n",
       "</div>"
      ],
      "text/plain": [
       "Empty DataFrame\n",
       "Columns: [KEY_skl, AnomalyScore_skl, OutlierIndicator_skl, KEY_sql, AnomalyScore_sql, OutlierIndicator_sql]\n",
       "Index: []"
      ]
     },
     "execution_count": 22,
     "metadata": {},
     "output_type": "execute_result"
    }
   ],
   "source": [
    "condition = (sql_skl_join.OutlierIndicator_sql != sql_skl_join.OutlierIndicator_skl)\n",
    "sql_skl_join[condition]\n"
   ]
  },
  {
   "cell_type": "code",
   "execution_count": null,
   "metadata": {
    "collapsed": true
   },
   "outputs": [],
   "source": []
  },
  {
   "cell_type": "code",
   "execution_count": null,
   "metadata": {
    "collapsed": true
   },
   "outputs": [],
   "source": []
  },
  {
   "cell_type": "code",
   "execution_count": null,
   "metadata": {
    "collapsed": true
   },
   "outputs": [],
   "source": []
  }
 ],
 "metadata": {
  "kernelspec": {
   "display_name": "Python 3",
   "language": "python",
   "name": "python3"
  },
  "language_info": {
   "codemirror_mode": {
    "name": "ipython",
    "version": 3
   },
   "file_extension": ".py",
   "mimetype": "text/x-python",
   "name": "python",
   "nbconvert_exporter": "python",
   "pygments_lexer": "ipython3",
   "version": "3.5.3"
  }
 },
 "nbformat": 4,
 "nbformat_minor": 0
}
